{
 "cells": [
  {
   "cell_type": "markdown",
   "metadata": {},
   "source": [
    "# Reading inputs from files"
   ]
  },
  {
   "cell_type": "code",
   "execution_count": 1,
   "metadata": {},
   "outputs": [],
   "source": [
    "def readFile(fileName) :\n",
    "    file = open(fileName, 'r+')\n",
    "    fList = file.readlines()\n",
    "    file.close()\n",
    "    fList = [s.replace('\\n', '') for s in fList]\n",
    "    return fList;\n",
    "\n",
    "l1 = readFile(\"test1.txt\")\n",
    "l2 = readFile(\"test2.txt\")\n",
    "l3 = readFile(\"test3.txt\")"
   ]
  },
  {
   "cell_type": "markdown",
   "metadata": {},
   "source": [
    "# Implementing visited class"
   ]
  },
  {
   "cell_type": "code",
   "execution_count": 7,
   "metadata": {},
   "outputs": [],
   "source": [
    "class Visited:\n",
    "    def __init__(self) : \n",
    "        self.x = []\n",
    "        self.y = []\n",
    "        \n",
    "    def appendXY(self, newX, newY) :\n",
    "        self.x.append(newX)\n",
    "        self.y.append(newY)\n",
    "        \n",
    "    def clear(self):\n",
    "        self.x.clear()\n",
    "        self.y.clear()\n",
    "    \n",
    "    def printInfo(self) :\n",
    "        length = len(self.x)\n",
    "        for i in range (0, length) :\n",
    "            print(\"x: \", self.x[i], \"y: \", self.y[i])"
   ]
  },
  {
   "cell_type": "markdown",
   "metadata": {},
   "source": [
    "# Implementing city class"
   ]
  },
  {
   "cell_type": "code",
   "execution_count": 8,
   "metadata": {},
   "outputs": [],
   "source": [
    "class City:\n",
    "    def __init__(self, curList):\n",
    "        self.l = curList\n",
    "        ambPos = self.findAmbulancePos(curList)\n",
    "        self.ambX = ambPos[0]\n",
    "        self.ambY = ambPos[1]\n",
    "        self.visited = Visited()\n",
    "        self.visited.appendXY(ambPos[0], ambPos[1])\n",
    "        \n",
    "    def findAmbulancePos(self, curList) :\n",
    "        for i in range(0, len(curList)):\n",
    "            for j in range(0, len(curList[i])):\n",
    "                if curList[i][j] == 'A' :\n",
    "                    return [i, j]\n",
    "        return [-1, -1] \n",
    "    \n",
    "    def bfsPath(self):\n",
    "        if (self.numberOfPatients() == 0)\n",
    "            return\n",
    "        if (checkDirection(\"up\")) :\n",
    "            moveAmbulance(\"up\")\n",
    "            bfsPath()\n",
    "        if (checkDirection(\"left\")) :\n",
    "            moveAmbulance(\"left\")\n",
    "            bfsPath()\n",
    "        if (checkDirection(\"down\")) :\n",
    "            moveAmbulance(\"down\")\n",
    "            bfsPath()\n",
    "        if (checkDirection(\"right\")) :\n",
    "            moveAmbulance(\"right\")\n",
    "            bfsPath()\n",
    "        \n",
    "    \n",
    "    def printInfo(self):\n",
    "        print(\"current list: \", self.l)\n",
    "        print(\"visited info: \")\n",
    "        self.visited.printInfo()\n",
    "        print(\"ambulance x: \", self.ambX)\n",
    "        print(\"ambulance y: \", self.ambY)"
   ]
  },
  {
   "cell_type": "markdown",
   "metadata": {},
   "source": [
    "# Finding position of Ambulance"
   ]
  },
  {
   "cell_type": "code",
   "execution_count": 9,
   "metadata": {},
   "outputs": [],
   "source": [
    "city1 = City(l1)\n",
    "city2 = City(l2)\n",
    "city3 = City(l3)"
   ]
  },
  {
   "cell_type": "code",
   "execution_count": 10,
   "metadata": {},
   "outputs": [
    {
     "name": "stdout",
     "output_type": "stream",
     "text": [
      "current list:  ['######', '#  A #', '# #P #', '#    #', '#P   #', '#2   #', '######']\n",
      "visited info: \n",
      "x:  1 y:  3\n",
      "ambulance x:  1\n",
      "ambulance y:  3\n"
     ]
    }
   ],
   "source": [
    "city1.printInfo()"
   ]
  },
  {
   "cell_type": "markdown",
   "metadata": {},
   "source": [
    "\n"
   ]
  },
  {
   "cell_type": "code",
   "execution_count": null,
   "metadata": {},
   "outputs": [],
   "source": []
  }
 ],
 "metadata": {
  "kernelspec": {
   "display_name": "Python 3",
   "language": "python",
   "name": "python3"
  },
  "language_info": {
   "codemirror_mode": {
    "name": "ipython",
    "version": 3
   },
   "file_extension": ".py",
   "mimetype": "text/x-python",
   "name": "python",
   "nbconvert_exporter": "python",
   "pygments_lexer": "ipython3",
   "version": "3.6.3"
  }
 },
 "nbformat": 4,
 "nbformat_minor": 4
}
